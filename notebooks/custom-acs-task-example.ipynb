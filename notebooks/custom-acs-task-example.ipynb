{
 "cells": [
  {
   "cell_type": "markdown",
   "metadata": {},
   "source": [
    "# Run `folktexts` benchmark with a custom ACS task\n",
    "\n",
    "This notebook describes how to define a custom prediction task based on \n",
    "American Community Survey (ACS) data."
   ]
  },
  {
   "cell_type": "code",
   "execution_count": null,
   "metadata": {},
   "outputs": [],
   "source": [
    "import folktexts\n",
    "folktexts.__version__"
   ]
  },
  {
   "cell_type": "code",
   "execution_count": null,
   "metadata": {},
   "outputs": [],
   "source": [
    "from pathlib import Path"
   ]
  },
  {
   "cell_type": "markdown",
   "metadata": {},
   "source": [
    "**Note:** Change the `DATA_DIR` variable to the ACS data path on your file system (if any, otherwise will attempt to download data)."
   ]
  },
  {
   "cell_type": "code",
   "execution_count": null,
   "metadata": {},
   "outputs": [],
   "source": [
    "DATA_DIR = Path(\"/fast/groups/sf\") / \"data\""
   ]
  },
  {
   "cell_type": "markdown",
   "metadata": {},
   "source": [
    "### Define custom task objects appropriately:\n",
    "\n",
    "In this example, we'll try to predict whether someone is or ever was part of the Military, based on a series of demographic features.\n",
    "\n",
    "We must define objects of the following classes:\n",
    "- `Threshold`: Used to binarize the target column (not needed if target is already binary);\n",
    "- `MultipleChoiceQA`: Defines a question and answer scheme for the target column;\n",
    "- `TaskMetadata`: Defines which columns to use as features, and which to use as the prediction target;"
   ]
  },
  {
   "cell_type": "markdown",
   "metadata": {},
   "source": [
    "Select the target column (among those defined in `folktexts.acs.acs_columns`):"
   ]
  },
  {
   "cell_type": "code",
   "execution_count": null,
   "metadata": {},
   "outputs": [],
   "source": [
    "TARGET_COLUMN = \"MIL\""
   ]
  },
  {
   "cell_type": "markdown",
   "metadata": {},
   "source": [
    "Define threshold to be applied to target column:"
   ]
  },
  {
   "cell_type": "code",
   "execution_count": null,
   "metadata": {},
   "outputs": [],
   "source": [
    "from folktexts.threshold import Threshold\n",
    "target_threshold = Threshold(4, \"!=\")\n",
    "\n",
    "# data[\"MIL\"] != 4 means \"Is on active duty in the military or was in the past\"\n",
    "# data[\"MIL\"] == 4 means \"Never served in the military\""
   ]
  },
  {
   "cell_type": "markdown",
   "metadata": {},
   "source": [
    "Define question and answer interface used for prompting:"
   ]
  },
  {
   "cell_type": "code",
   "execution_count": null,
   "metadata": {},
   "outputs": [],
   "source": [
    "from folktexts.qa_interface import MultipleChoiceQA\n",
    "from folktexts.qa_interface import Choice\n",
    "\n",
    "target_column_qa = MultipleChoiceQA(\n",
    "    column=target_threshold.apply_to_column_name(TARGET_COLUMN),\n",
    "    text=\"Has this person ever served in the military?\",\n",
    "    choices=(\n",
    "        Choice(\"Yes, this person is now on active duty or was in the past\", 1),\n",
    "        Choice(\"No, this person has never served in the military\", 0),\n",
    "    ),\n",
    ")"
   ]
  },
  {
   "cell_type": "markdown",
   "metadata": {},
   "source": [
    "Define task metadata:"
   ]
  },
  {
   "cell_type": "code",
   "execution_count": null,
   "metadata": {},
   "outputs": [],
   "source": [
    "from folktexts.acs import ACSTaskMetadata\n",
    "\n",
    "task = ACSTaskMetadata.make_task(\n",
    "    name=\"ACSMilitary\",\n",
    "    description=\"predict if a person has ever served in the military\",\n",
    "    features=[\n",
    "        \"AGEP\", \"SCHL\", \"MAR\", \"POBP\", \"WKHP\", \"SEX\", \"RAC1P\", \"ST\", \"CIT\", \"DIS\", \"PINCP\",\n",
    "    ],\n",
    "    target=TARGET_COLUMN,\n",
    "    target_threshold=target_threshold,\n",
    "    sensitive_attribute=\"RAC1P\",\n",
    "    multiple_choice_qa=target_column_qa,\n",
    ")"
   ]
  },
  {
   "cell_type": "markdown",
   "metadata": {},
   "source": [
    "Load ACS dataset for the custom task:"
   ]
  },
  {
   "cell_type": "code",
   "execution_count": null,
   "metadata": {},
   "outputs": [],
   "source": [
    "%%time\n",
    "from folktexts.acs.acs_dataset import ACSDataset\n",
    "acs_dataset = ACSDataset.make_from_task(\n",
    "    task=task,\n",
    "    cache_dir=DATA_DIR,)"
   ]
  },
  {
   "cell_type": "markdown",
   "metadata": {},
   "source": [
    "**Note:** This dataset will contain all samples in the ACS PUMS file, you can\n",
    "now filter the `acs_dataset.data` if you want to use only a portion of the data \n",
    "(e.g, only people in California, or only people above 18 years old).\n",
    "\n",
    "As an example, we'll filter the ACS data to contain only people above 18 years old."
   ]
  },
  {
   "cell_type": "code",
   "execution_count": null,
   "metadata": {},
   "outputs": [],
   "source": [
    "print(f\"Original number of samples: {len(acs_dataset.data)}\")\n",
    "\n",
    "acs_dataset.data = acs_dataset.data[acs_dataset.data[\"AGEP\"] >= 18]\n",
    "print(f\"Parsed number of samples: {len(acs_dataset.data)}\")"
   ]
  },
  {
   "cell_type": "markdown",
   "metadata": {},
   "source": [
    "**Optionally,** you can subsample the dataset to have faster but noisier results."
   ]
  },
  {
   "cell_type": "code",
   "execution_count": null,
   "metadata": {},
   "outputs": [],
   "source": [
    "acs_dataset.subsample(0.01)"
   ]
  },
  {
   "cell_type": "markdown",
   "metadata": {},
   "source": [
    "### Load LLM from huggingface or from local disk"
   ]
  },
  {
   "cell_type": "code",
   "execution_count": null,
   "metadata": {},
   "outputs": [],
   "source": [
    "MODEL_NAME_OR_PATH = \"meta-llama/Meta-Llama-3-8B\""
   ]
  },
  {
   "cell_type": "code",
   "execution_count": null,
   "metadata": {},
   "outputs": [],
   "source": [
    "%%time\n",
    "from folktexts.llm_utils import load_model_tokenizer\n",
    "model, tokenizer = load_model_tokenizer(MODEL_NAME_OR_PATH)"
   ]
  },
  {
   "cell_type": "markdown",
   "metadata": {},
   "source": [
    "Create `LLMClassifier` object."
   ]
  },
  {
   "cell_type": "code",
   "execution_count": null,
   "metadata": {},
   "outputs": [],
   "source": [
    "from folktexts.classifier import TransformersLLMClassifier\n",
    "\n",
    "llm_clf = TransformersLLMClassifier(\n",
    "    model=model,\n",
    "    tokenizer=tokenizer,\n",
    "    task=task,\n",
    "    batch_size=20,\n",
    "    context_size=600,\n",
    ")"
   ]
  },
  {
   "cell_type": "markdown",
   "metadata": {},
   "source": [
    "**Validation:** Check that model prompts with the custom task make sense, or if anything needs to be adjusted."
   ]
  },
  {
   "cell_type": "code",
   "execution_count": null,
   "metadata": {},
   "outputs": [],
   "source": [
    "X_sample, _y_sample = acs_dataset.sample_n_train_examples(n=1)\n",
    "print(llm_clf.encode_row(X_sample.iloc[0], question=llm_clf.task.question))"
   ]
  },
  {
   "cell_type": "markdown",
   "metadata": {},
   "source": [
    "### Run benchmark on the custom task"
   ]
  },
  {
   "cell_type": "code",
   "execution_count": null,
   "metadata": {},
   "outputs": [],
   "source": [
    "from folktexts.benchmark import Benchmark\n",
    "bench = Benchmark(llm_clf=llm_clf, dataset=acs_dataset)"
   ]
  },
  {
   "cell_type": "code",
   "execution_count": null,
   "metadata": {},
   "outputs": [],
   "source": [
    "%%time\n",
    "bench.run(results_root_dir=\".\")"
   ]
  },
  {
   "cell_type": "code",
   "execution_count": null,
   "metadata": {},
   "outputs": [],
   "source": [
    "bench.plot_results();"
   ]
  }
 ],
 "metadata": {
  "kernelspec": {
   "display_name": "Python 3 (ipykernel)",
   "language": "python",
   "name": "python3"
  },
  "language_info": {
   "codemirror_mode": {
    "name": "ipython",
    "version": 3
   },
   "file_extension": ".py",
   "mimetype": "text/x-python",
   "name": "python",
   "nbconvert_exporter": "python",
   "pygments_lexer": "ipython3",
   "version": "3.11.9"
  }
 },
 "nbformat": 4,
 "nbformat_minor": 4
}
