{
 "cells": [
  {
   "cell_type": "markdown",
   "id": "04c2f12d-f989-4ac9-b90f-3464a8bcca96",
   "metadata": {},
   "source": [
    "# Fetch and parse ACS benchmark results under a given directory\n",
    "Each ACS benchmark run outputs a json file. This script collects all such files under a given root directory, parses them, and aggregates them into a more easily digestable pandas DataFrame."
   ]
  },
  {
   "cell_type": "code",
   "execution_count": 1,
   "id": "3b241208-d10f-43cf-a486-84c54bbf43c3",
   "metadata": {},
   "outputs": [],
   "source": [
    "import math\n",
    "from pathlib import Path\n",
    "import numpy as np\n",
    "import pandas as pd\n",
    "from tqdm.auto import tqdm"
   ]
  },
  {
   "cell_type": "markdown",
   "id": "faf6afa4-8648-4d35-9312-65636ea5d0b2",
   "metadata": {},
   "source": [
    "Set the local path to the root results directory:"
   ]
  },
  {
   "cell_type": "code",
   "execution_count": 2,
   "id": "26089a60-81c0-4736-8ba5-99572ec01398",
   "metadata": {},
   "outputs": [],
   "source": [
    "RESULTS_ROOT_DIR = Path(\"/fast/groups/sf\") / \"folktexts-results\" / \"2024-07-03_feature-subsets\""
   ]
  },
  {
   "cell_type": "markdown",
   "id": "03d1af7f-d013-40a0-80de-cb9ad65cff6d",
   "metadata": {},
   "source": [
    "Set the local path to the root data directory (needed only to train baseline ML methods):"
   ]
  },
  {
   "cell_type": "code",
   "execution_count": 3,
   "id": "b18dad87-a1ed-495b-93b6-4c8af4043ddc",
   "metadata": {},
   "outputs": [],
   "source": [
    "DATA_DIR = Path(\"/fast/groups/sf\") / \"data\""
   ]
  },
  {
   "cell_type": "markdown",
   "id": "db7c98c5-2942-4f88-984a-8c9014afe761",
   "metadata": {},
   "source": [
    "Important results columns:"
   ]
  },
  {
   "cell_type": "code",
   "execution_count": 4,
   "id": "e96f0c4f-5683-4150-8cca-93a883f20154",
   "metadata": {},
   "outputs": [],
   "source": [
    "model_col = \"config_model_name\"\n",
    "task_col = \"config_task_name\"\n",
    "\n",
    "feature_subset_col = \"config_feature_subset\"\n",
    "predictions_path_col = \"predictions_path\""
   ]
  },
  {
   "cell_type": "markdown",
   "id": "4296ffdf-a9af-43f7-bd0c-20f4ae5f9619",
   "metadata": {},
   "source": [
    "Helper function to parse each dictionary containing benchmark results:"
   ]
  },
  {
   "cell_type": "code",
   "execution_count": 5,
   "id": "0cf4a6c8-ec28-4e66-9f6d-8a4e977d7b60",
   "metadata": {},
   "outputs": [],
   "source": [
    "from utils import (\n",
    "    num_features_helper,\n",
    "    parse_model_name,\n",
    "    get_non_instruction_tuned_name,\n",
    "    prettify_model_name,\n",
    ")\n",
    "\n",
    "def parse_results_dict(dct) -> dict:\n",
    "    \"\"\"Parses results dict and brings all information to the top-level.\"\"\"\n",
    "\n",
    "    # Make a copy so we don't modify the input object\n",
    "    dct = dct.copy()\n",
    "\n",
    "    # Discard plots' paths\n",
    "    dct.pop(\"plots\", None)\n",
    "\n",
    "    # Bring configs to top-level\n",
    "    config = dct.pop(\"config\", {})\n",
    "    for key, val in config.items():\n",
    "        dct[f\"config_{key}\"] = val\n",
    "\n",
    "    # Parse model name\n",
    "    dct[model_col] = parse_model_name(dct[model_col])\n",
    "    dct[\"base_name\"] = get_non_instruction_tuned_name(dct[model_col])\n",
    "    dct[\"name\"] = prettify_model_name(dct[model_col])\n",
    "\n",
    "    # Is instruction-tuned model?\n",
    "    dct[\"is_inst\"] = dct[\"base_name\"] != dct[model_col]\n",
    "\n",
    "    # Log number of features\n",
    "    dct[\"num_features\"] = num_features_helper(dct[feature_subset_col], max_features_return=-1)\n",
    "    dct[\"uses_all_features\"] = (dct[feature_subset_col] is None) or (dct[\"num_features\"] == -1)\n",
    "\n",
    "    if dct[feature_subset_col] is None:\n",
    "        dct[feature_subset_col] = \"full\"\n",
    "\n",
    "    # Assert all results are at the top-level\n",
    "    assert not any(isinstance(val, dict) for val in dct.values())\n",
    "    return dct\n"
   ]
  },
  {
   "cell_type": "markdown",
   "id": "02009a86-e099-4ec0-8676-8d66190ceddb",
   "metadata": {},
   "source": [
    "Iteratively search the root directory for results files matching the given regex:"
   ]
  },
  {
   "cell_type": "code",
   "execution_count": 6,
   "id": "aaefa99d-dbd7-40a3-a3c1-7571d3811409",
   "metadata": {},
   "outputs": [
    {
     "data": {
      "application/vnd.jupyter.widget-view+json": {
       "model_id": "2f1487730daa44a6bc364ce6a78cf983",
       "version_major": 2,
       "version_minor": 0
      },
      "text/plain": [
       "0it [00:00, ?it/s]"
      ]
     },
     "metadata": {},
     "output_type": "display_data"
    },
    {
     "name": "stdout",
     "output_type": "stream",
     "text": [
      "Found 157 benchmark results.\n"
     ]
    }
   ],
   "source": [
    "from utils import find_files, load_json\n",
    "\n",
    "# Results file name pattern\n",
    "pattern = r'^results.bench-(?P<hash>\\d+)[.]json$'\n",
    "\n",
    "# Find results files and aggregate\n",
    "results = {}\n",
    "for file_path in tqdm(find_files(RESULTS_ROOT_DIR, pattern)):\n",
    "    results[Path(file_path).parent.name] = parse_results_dict(load_json(file_path))\n",
    "\n",
    "if len(results) == 0:\n",
    "    raise RuntimeError(f\"Couldn't find any results at {RESULTS_ROOT_DIR}\")\n",
    "else:\n",
    "    print(f\"Found {len(results)} benchmark results.\")"
   ]
  },
  {
   "cell_type": "markdown",
   "id": "0ecc0d33-902d-492a-89c6-d9729fe69fa1",
   "metadata": {},
   "source": [
    "Aggregate results into a single DataFrame, and generate a unique identifier for each row:"
   ]
  },
  {
   "cell_type": "code",
   "execution_count": 7,
   "id": "94f1900f-fea3-4872-b722-ee1cd3f5f7e1",
   "metadata": {},
   "outputs": [
    {
     "name": "stdout",
     "output_type": "stream",
     "text": [
      "df.shape=(157, 58)\n"
     ]
    },
    {
     "data": {
      "text/html": [
       "<div>\n",
       "<style scoped>\n",
       "    .dataframe tbody tr th:only-of-type {\n",
       "        vertical-align: middle;\n",
       "    }\n",
       "\n",
       "    .dataframe tbody tr th {\n",
       "        vertical-align: top;\n",
       "    }\n",
       "\n",
       "    .dataframe thead th {\n",
       "        text-align: right;\n",
       "    }\n",
       "</style>\n",
       "<table border=\"1\" class=\"dataframe\">\n",
       "  <thead>\n",
       "    <tr style=\"text-align: right;\">\n",
       "      <th></th>\n",
       "      <th>accuracy</th>\n",
       "      <th>accuracy_diff</th>\n",
       "      <th>accuracy_ratio</th>\n",
       "      <th>balanced_accuracy</th>\n",
       "      <th>balanced_accuracy_diff</th>\n",
       "      <th>balanced_accuracy_ratio</th>\n",
       "      <th>brier_score_loss</th>\n",
       "      <th>ece</th>\n",
       "      <th>ece_quantile</th>\n",
       "      <th>equalized_odds_diff</th>\n",
       "      <th>...</th>\n",
       "      <th>config_population_filter</th>\n",
       "      <th>config_reuse_few_shot_examples</th>\n",
       "      <th>config_seed</th>\n",
       "      <th>config_task_hash</th>\n",
       "      <th>config_task_name</th>\n",
       "      <th>base_name</th>\n",
       "      <th>name</th>\n",
       "      <th>is_inst</th>\n",
       "      <th>num_features</th>\n",
       "      <th>uses_all_features</th>\n",
       "    </tr>\n",
       "    <tr>\n",
       "      <th>id</th>\n",
       "      <th></th>\n",
       "      <th></th>\n",
       "      <th></th>\n",
       "      <th></th>\n",
       "      <th></th>\n",
       "      <th></th>\n",
       "      <th></th>\n",
       "      <th></th>\n",
       "      <th></th>\n",
       "      <th></th>\n",
       "      <th></th>\n",
       "      <th></th>\n",
       "      <th></th>\n",
       "      <th></th>\n",
       "      <th></th>\n",
       "      <th></th>\n",
       "      <th></th>\n",
       "      <th></th>\n",
       "      <th></th>\n",
       "      <th></th>\n",
       "      <th></th>\n",
       "    </tr>\n",
       "  </thead>\n",
       "  <tbody>\n",
       "    <tr>\n",
       "      <th>gemma-2-27b-it__ACSIncome_AGEP_COW_MAR_POBP_RAC1P_RELP_SCHL_SEX_WKHP__9</th>\n",
       "      <td>0.491048</td>\n",
       "      <td>0.119364</td>\n",
       "      <td>0.777713</td>\n",
       "      <td>0.575408</td>\n",
       "      <td>0.060358</td>\n",
       "      <td>0.902716</td>\n",
       "      <td>0.414866</td>\n",
       "      <td>0.411672</td>\n",
       "      <td>0.411800</td>\n",
       "      <td>0.177953</td>\n",
       "      <td>...</td>\n",
       "      <td>None</td>\n",
       "      <td>False</td>\n",
       "      <td>42</td>\n",
       "      <td>1712803600</td>\n",
       "      <td>ACSIncome_AGEP_COW_MAR_POBP_RAC1P_RELP_SCHL_SE...</td>\n",
       "      <td>gemma-2-27b</td>\n",
       "      <td>Gemma 2 27B (it)</td>\n",
       "      <td>True</td>\n",
       "      <td>9</td>\n",
       "      <td>False</td>\n",
       "    </tr>\n",
       "    <tr>\n",
       "      <th>Mixtral-8x7B-Instruct-v0.1__ACSIncome_AGEP_COW_MAR_POBP_RAC1P_RELP_SCHL_SEX_WKHP__9</th>\n",
       "      <td>0.762529</td>\n",
       "      <td>0.088772</td>\n",
       "      <td>0.894011</td>\n",
       "      <td>0.731414</td>\n",
       "      <td>0.230983</td>\n",
       "      <td>0.689514</td>\n",
       "      <td>0.195928</td>\n",
       "      <td>0.166547</td>\n",
       "      <td>0.166019</td>\n",
       "      <td>0.632973</td>\n",
       "      <td>...</td>\n",
       "      <td>None</td>\n",
       "      <td>False</td>\n",
       "      <td>42</td>\n",
       "      <td>1712803600</td>\n",
       "      <td>ACSIncome_AGEP_COW_MAR_POBP_RAC1P_RELP_SCHL_SE...</td>\n",
       "      <td>Mixtral-8x7B-v0.1</td>\n",
       "      <td>Mixtral 8x7B (it)</td>\n",
       "      <td>True</td>\n",
       "      <td>9</td>\n",
       "      <td>False</td>\n",
       "    </tr>\n",
       "    <tr>\n",
       "      <th>gemma-2-27b-it__ACSIncome_COW_POBP_RAC1P__3</th>\n",
       "      <td>0.395482</td>\n",
       "      <td>0.307732</td>\n",
       "      <td>0.479565</td>\n",
       "      <td>0.505805</td>\n",
       "      <td>0.100457</td>\n",
       "      <td>0.825430</td>\n",
       "      <td>0.509275</td>\n",
       "      <td>0.505391</td>\n",
       "      <td>0.498477</td>\n",
       "      <td>0.618846</td>\n",
       "      <td>...</td>\n",
       "      <td>None</td>\n",
       "      <td>False</td>\n",
       "      <td>42</td>\n",
       "      <td>789274827</td>\n",
       "      <td>ACSIncome_COW_POBP_RAC1P</td>\n",
       "      <td>gemma-2-27b</td>\n",
       "      <td>Gemma 2 27B (it)</td>\n",
       "      <td>True</td>\n",
       "      <td>3</td>\n",
       "      <td>False</td>\n",
       "    </tr>\n",
       "  </tbody>\n",
       "</table>\n",
       "<p>3 rows × 58 columns</p>\n",
       "</div>"
      ],
      "text/plain": [
       "                                                    accuracy  accuracy_diff  \\\n",
       "id                                                                            \n",
       "gemma-2-27b-it__ACSIncome_AGEP_COW_MAR_POBP_RAC...  0.491048       0.119364   \n",
       "Mixtral-8x7B-Instruct-v0.1__ACSIncome_AGEP_COW_...  0.762529       0.088772   \n",
       "gemma-2-27b-it__ACSIncome_COW_POBP_RAC1P__3         0.395482       0.307732   \n",
       "\n",
       "                                                    accuracy_ratio  \\\n",
       "id                                                                   \n",
       "gemma-2-27b-it__ACSIncome_AGEP_COW_MAR_POBP_RAC...        0.777713   \n",
       "Mixtral-8x7B-Instruct-v0.1__ACSIncome_AGEP_COW_...        0.894011   \n",
       "gemma-2-27b-it__ACSIncome_COW_POBP_RAC1P__3               0.479565   \n",
       "\n",
       "                                                    balanced_accuracy  \\\n",
       "id                                                                      \n",
       "gemma-2-27b-it__ACSIncome_AGEP_COW_MAR_POBP_RAC...           0.575408   \n",
       "Mixtral-8x7B-Instruct-v0.1__ACSIncome_AGEP_COW_...           0.731414   \n",
       "gemma-2-27b-it__ACSIncome_COW_POBP_RAC1P__3                  0.505805   \n",
       "\n",
       "                                                    balanced_accuracy_diff  \\\n",
       "id                                                                           \n",
       "gemma-2-27b-it__ACSIncome_AGEP_COW_MAR_POBP_RAC...                0.060358   \n",
       "Mixtral-8x7B-Instruct-v0.1__ACSIncome_AGEP_COW_...                0.230983   \n",
       "gemma-2-27b-it__ACSIncome_COW_POBP_RAC1P__3                       0.100457   \n",
       "\n",
       "                                                    balanced_accuracy_ratio  \\\n",
       "id                                                                            \n",
       "gemma-2-27b-it__ACSIncome_AGEP_COW_MAR_POBP_RAC...                 0.902716   \n",
       "Mixtral-8x7B-Instruct-v0.1__ACSIncome_AGEP_COW_...                 0.689514   \n",
       "gemma-2-27b-it__ACSIncome_COW_POBP_RAC1P__3                        0.825430   \n",
       "\n",
       "                                                    brier_score_loss  \\\n",
       "id                                                                     \n",
       "gemma-2-27b-it__ACSIncome_AGEP_COW_MAR_POBP_RAC...          0.414866   \n",
       "Mixtral-8x7B-Instruct-v0.1__ACSIncome_AGEP_COW_...          0.195928   \n",
       "gemma-2-27b-it__ACSIncome_COW_POBP_RAC1P__3                 0.509275   \n",
       "\n",
       "                                                         ece  ece_quantile  \\\n",
       "id                                                                           \n",
       "gemma-2-27b-it__ACSIncome_AGEP_COW_MAR_POBP_RAC...  0.411672      0.411800   \n",
       "Mixtral-8x7B-Instruct-v0.1__ACSIncome_AGEP_COW_...  0.166547      0.166019   \n",
       "gemma-2-27b-it__ACSIncome_COW_POBP_RAC1P__3         0.505391      0.498477   \n",
       "\n",
       "                                                    equalized_odds_diff  ...  \\\n",
       "id                                                                       ...   \n",
       "gemma-2-27b-it__ACSIncome_AGEP_COW_MAR_POBP_RAC...             0.177953  ...   \n",
       "Mixtral-8x7B-Instruct-v0.1__ACSIncome_AGEP_COW_...             0.632973  ...   \n",
       "gemma-2-27b-it__ACSIncome_COW_POBP_RAC1P__3                    0.618846  ...   \n",
       "\n",
       "                                                    config_population_filter  \\\n",
       "id                                                                             \n",
       "gemma-2-27b-it__ACSIncome_AGEP_COW_MAR_POBP_RAC...                      None   \n",
       "Mixtral-8x7B-Instruct-v0.1__ACSIncome_AGEP_COW_...                      None   \n",
       "gemma-2-27b-it__ACSIncome_COW_POBP_RAC1P__3                             None   \n",
       "\n",
       "                                                    config_reuse_few_shot_examples  \\\n",
       "id                                                                                   \n",
       "gemma-2-27b-it__ACSIncome_AGEP_COW_MAR_POBP_RAC...                           False   \n",
       "Mixtral-8x7B-Instruct-v0.1__ACSIncome_AGEP_COW_...                           False   \n",
       "gemma-2-27b-it__ACSIncome_COW_POBP_RAC1P__3                                  False   \n",
       "\n",
       "                                                    config_seed  \\\n",
       "id                                                                \n",
       "gemma-2-27b-it__ACSIncome_AGEP_COW_MAR_POBP_RAC...           42   \n",
       "Mixtral-8x7B-Instruct-v0.1__ACSIncome_AGEP_COW_...           42   \n",
       "gemma-2-27b-it__ACSIncome_COW_POBP_RAC1P__3                  42   \n",
       "\n",
       "                                                    config_task_hash  \\\n",
       "id                                                                     \n",
       "gemma-2-27b-it__ACSIncome_AGEP_COW_MAR_POBP_RAC...        1712803600   \n",
       "Mixtral-8x7B-Instruct-v0.1__ACSIncome_AGEP_COW_...        1712803600   \n",
       "gemma-2-27b-it__ACSIncome_COW_POBP_RAC1P__3                789274827   \n",
       "\n",
       "                                                                                     config_task_name  \\\n",
       "id                                                                                                      \n",
       "gemma-2-27b-it__ACSIncome_AGEP_COW_MAR_POBP_RAC...  ACSIncome_AGEP_COW_MAR_POBP_RAC1P_RELP_SCHL_SE...   \n",
       "Mixtral-8x7B-Instruct-v0.1__ACSIncome_AGEP_COW_...  ACSIncome_AGEP_COW_MAR_POBP_RAC1P_RELP_SCHL_SE...   \n",
       "gemma-2-27b-it__ACSIncome_COW_POBP_RAC1P__3                                  ACSIncome_COW_POBP_RAC1P   \n",
       "\n",
       "                                                            base_name  \\\n",
       "id                                                                      \n",
       "gemma-2-27b-it__ACSIncome_AGEP_COW_MAR_POBP_RAC...        gemma-2-27b   \n",
       "Mixtral-8x7B-Instruct-v0.1__ACSIncome_AGEP_COW_...  Mixtral-8x7B-v0.1   \n",
       "gemma-2-27b-it__ACSIncome_COW_POBP_RAC1P__3               gemma-2-27b   \n",
       "\n",
       "                                                                 name  \\\n",
       "id                                                                      \n",
       "gemma-2-27b-it__ACSIncome_AGEP_COW_MAR_POBP_RAC...   Gemma 2 27B (it)   \n",
       "Mixtral-8x7B-Instruct-v0.1__ACSIncome_AGEP_COW_...  Mixtral 8x7B (it)   \n",
       "gemma-2-27b-it__ACSIncome_COW_POBP_RAC1P__3          Gemma 2 27B (it)   \n",
       "\n",
       "                                                    is_inst num_features  \\\n",
       "id                                                                         \n",
       "gemma-2-27b-it__ACSIncome_AGEP_COW_MAR_POBP_RAC...     True            9   \n",
       "Mixtral-8x7B-Instruct-v0.1__ACSIncome_AGEP_COW_...     True            9   \n",
       "gemma-2-27b-it__ACSIncome_COW_POBP_RAC1P__3            True            3   \n",
       "\n",
       "                                                    uses_all_features  \n",
       "id                                                                     \n",
       "gemma-2-27b-it__ACSIncome_AGEP_COW_MAR_POBP_RAC...              False  \n",
       "Mixtral-8x7B-Instruct-v0.1__ACSIncome_AGEP_COW_...              False  \n",
       "gemma-2-27b-it__ACSIncome_COW_POBP_RAC1P__3                     False  \n",
       "\n",
       "[3 rows x 58 columns]"
      ]
     },
     "execution_count": 7,
     "metadata": {},
     "output_type": "execute_result"
    }
   ],
   "source": [
    "df = pd.DataFrame(list(results.values()))\n",
    "\n",
    "def row_id(row) -> str:\n",
    "    \"\"\"Unique row identifier.\"\"\"\n",
    "    return f\"{row[model_col]}__{row[task_col]}__{row['num_features']}\"\n",
    "\n",
    "df[\"id\"] = df.apply(row_id, axis=1)\n",
    "df = df.set_index(\"id\", drop=True, verify_integrity=True)\n",
    "\n",
    "print(f\"{df.shape=}\")\n",
    "df.sample(3)"
   ]
  },
  {
   "cell_type": "markdown",
   "id": "5fd59aee-3802-4430-a977-243dd44f8f62",
   "metadata": {},
   "source": [
    "Drop potential duplicates:"
   ]
  },
  {
   "cell_type": "code",
   "execution_count": 8,
   "id": "69ef57de-0059-4c40-9eae-fb4e6b3bf582",
   "metadata": {},
   "outputs": [],
   "source": [
    "parsed_df = df.drop_duplicates(subset=[\"name\", \"is_inst\", \"num_features\", task_col])\n",
    "if len(parsed_df) != len(df):\n",
    "    print(f\"Found {len(df) - len(parsed_df)} duplicates! dropping rows...\")\n",
    "    df = parsed_df"
   ]
  },
  {
   "cell_type": "markdown",
   "id": "97cd24df-3c1f-49c0-bb50-a6fdba22e0fb",
   "metadata": {},
   "source": [
    "Load scores DFs and analyze score distribution:"
   ]
  },
  {
   "cell_type": "code",
   "execution_count": 9,
   "id": "43ba0fbf-b886-4f2a-8a01-564aa6f0f2c6",
   "metadata": {},
   "outputs": [],
   "source": [
    "def load_model_scores_df(df_row: pd.Series) -> pd.DataFrame:\n",
    "    \"\"\"Loads csv containing model scores corresponding to the given DF row.\"\"\"\n",
    "    if predictions_path_col in df_row and not pd.isna(df_row[predictions_path_col]):\n",
    "        return pd.read_csv(df_row[predictions_path_col], index_col=0)\n",
    "    return None"
   ]
  },
  {
   "cell_type": "code",
   "execution_count": 10,
   "id": "9bc88155-08a3-4cc2-bb8d-aaec96350f86",
   "metadata": {},
   "outputs": [
    {
     "data": {
      "application/vnd.jupyter.widget-view+json": {
       "model_id": "2cb201c5372045719bd439c314691cd0",
       "version_major": 2,
       "version_minor": 0
      },
      "text/plain": [
       "  0%|          | 0/157 [00:00<?, ?it/s]"
      ]
     },
     "metadata": {},
     "output_type": "display_data"
    }
   ],
   "source": [
    "scores_df_map = {\n",
    "    id_: load_model_scores_df(row)\n",
    "    for id_, row in tqdm(parsed_df.iterrows(), total=len(parsed_df))\n",
    "}"
   ]
  },
  {
   "cell_type": "code",
   "execution_count": 11,
   "id": "54e22896-1d3d-4d95-bb90-2b453f58f09a",
   "metadata": {},
   "outputs": [
    {
     "data": {
      "application/vnd.jupyter.widget-view+json": {
       "model_id": "acb497c9413e4934aac8e3e5a360ad07",
       "version_major": 2,
       "version_minor": 0
      },
      "text/plain": [
       "  0%|          | 0/157 [00:00<?, ?it/s]"
      ]
     },
     "metadata": {},
     "output_type": "display_data"
    }
   ],
   "source": [
    "from folktexts.evaluation import compute_best_threshold\n",
    "from sklearn import metrics\n",
    "from scipy import stats\n",
    "\n",
    "# Number of samples used to fit the one-parameter binarization threshold!\n",
    "N = 100\n",
    "\n",
    "fit_thresh_col = f\"fit_thresh_on_{N}\"\n",
    "fit_acc_col = f\"fit_thresh_accuracy\"\n",
    "\n",
    "optimal_thres_col = \"optimal_thresh\"\n",
    "optimal_acc_col = \"optimal_thresh_accuracy\"\n",
    "\n",
    "score_stdev_col = \"score_stdev\"\n",
    "score_mean_col = \"score_mean\"\n",
    "\n",
    "scores_stats = dict()\n",
    "for row_id, row in tqdm(df.iterrows(), total=len(df)):\n",
    "\n",
    "    # Load model scores\n",
    "    scores_df = scores_df_map[row_id]\n",
    "    if scores_df is None:\n",
    "        logging.error(f\"Couldn't find scores for {row_id}\")\n",
    "\n",
    "    # Extract scores and labels\n",
    "    risk_scores = scores_df[\"risk_score\"].to_numpy()\n",
    "    labels = scores_df[\"label\"].to_numpy()\n",
    "\n",
    "    # Sample N rows to fit threshold\n",
    "    scores_df_sample = scores_df.sample(n=N, random_state=42)\n",
    "\n",
    "    # Compute optimal threshold on each data sample\n",
    "    fit_thr = compute_best_threshold(y_true=scores_df_sample[\"label\"], y_pred_scores=scores_df_sample[\"risk_score\"])\n",
    "    opt_thr = compute_best_threshold(y_true=labels, y_pred_scores=risk_scores)\n",
    "\n",
    "    # Evaluate accuracy\n",
    "    fit_acc = metrics.accuracy_score(labels, (risk_scores >= fit_thr).astype(int))\n",
    "    opt_acc = metrics.accuracy_score(labels, (risk_scores >= opt_thr).astype(int))\n",
    "\n",
    "    # Save results\n",
    "    scores_stats[row_id] = {\n",
    "        fit_thresh_col: fit_thr,\n",
    "        fit_acc_col: fit_acc,\n",
    "        optimal_thres_col: opt_thr,\n",
    "        optimal_acc_col: opt_acc,\n",
    "        score_stdev_col: np.std(risk_scores),\n",
    "        score_mean_col: np.mean(risk_scores),\n",
    "    }"
   ]
  },
  {
   "cell_type": "markdown",
   "id": "b1a58b87-2de8-473a-badb-934951d1bcdc",
   "metadata": {},
   "source": [
    "Update results DF with scores statistics:"
   ]
  },
  {
   "cell_type": "code",
   "execution_count": 12,
   "id": "0ba74c81-c008-4010-a9a3-1b511ae445df",
   "metadata": {},
   "outputs": [
    {
     "data": {
      "text/html": [
       "<div>\n",
       "<style scoped>\n",
       "    .dataframe tbody tr th:only-of-type {\n",
       "        vertical-align: middle;\n",
       "    }\n",
       "\n",
       "    .dataframe tbody tr th {\n",
       "        vertical-align: top;\n",
       "    }\n",
       "\n",
       "    .dataframe thead th {\n",
       "        text-align: right;\n",
       "    }\n",
       "</style>\n",
       "<table border=\"1\" class=\"dataframe\">\n",
       "  <thead>\n",
       "    <tr style=\"text-align: right;\">\n",
       "      <th></th>\n",
       "      <th>accuracy</th>\n",
       "      <th>accuracy_diff</th>\n",
       "      <th>accuracy_ratio</th>\n",
       "      <th>balanced_accuracy</th>\n",
       "      <th>balanced_accuracy_diff</th>\n",
       "      <th>balanced_accuracy_ratio</th>\n",
       "      <th>brier_score_loss</th>\n",
       "      <th>ece</th>\n",
       "      <th>ece_quantile</th>\n",
       "      <th>equalized_odds_diff</th>\n",
       "      <th>...</th>\n",
       "      <th>name</th>\n",
       "      <th>is_inst</th>\n",
       "      <th>num_features</th>\n",
       "      <th>uses_all_features</th>\n",
       "      <th>fit_thresh_on_100</th>\n",
       "      <th>fit_thresh_accuracy</th>\n",
       "      <th>optimal_thresh</th>\n",
       "      <th>optimal_thresh_accuracy</th>\n",
       "      <th>score_stdev</th>\n",
       "      <th>score_mean</th>\n",
       "    </tr>\n",
       "  </thead>\n",
       "  <tbody>\n",
       "    <tr>\n",
       "      <th>Mixtral-8x7B-v0.1__ACSIncome_AGEP_COW_MAR_OCCP_POBP_RAC1P_RELP_SCHL_SEX_WKHP__10</th>\n",
       "      <td>0.648297</td>\n",
       "      <td>0.248729</td>\n",
       "      <td>0.702738</td>\n",
       "      <td>0.524920</td>\n",
       "      <td>0.043200</td>\n",
       "      <td>0.920471</td>\n",
       "      <td>0.204540</td>\n",
       "      <td>0.179335</td>\n",
       "      <td>0.184859</td>\n",
       "      <td>0.095565</td>\n",
       "      <td>...</td>\n",
       "      <td>Mixtral 8x7B</td>\n",
       "      <td>False</td>\n",
       "      <td>10</td>\n",
       "      <td>False</td>\n",
       "      <td>0.407264</td>\n",
       "      <td>0.761766</td>\n",
       "      <td>0.377347</td>\n",
       "      <td>0.729012</td>\n",
       "      <td>0.060043</td>\n",
       "      <td>0.366800</td>\n",
       "    </tr>\n",
       "    <tr>\n",
       "      <th>gemma-2-9b-it__ACSIncome_COW_POBP_RAC1P__3</th>\n",
       "      <td>0.466807</td>\n",
       "      <td>0.321693</td>\n",
       "      <td>0.531647</td>\n",
       "      <td>0.528798</td>\n",
       "      <td>0.084215</td>\n",
       "      <td>0.850181</td>\n",
       "      <td>0.493267</td>\n",
       "      <td>0.489119</td>\n",
       "      <td>0.475899</td>\n",
       "      <td>0.672582</td>\n",
       "      <td>...</td>\n",
       "      <td>Gemma 2 9B (it)</td>\n",
       "      <td>True</td>\n",
       "      <td>3</td>\n",
       "      <td>False</td>\n",
       "      <td>0.977018</td>\n",
       "      <td>0.523376</td>\n",
       "      <td>0.939886</td>\n",
       "      <td>0.504770</td>\n",
       "      <td>0.404412</td>\n",
       "      <td>0.717929</td>\n",
       "    </tr>\n",
       "  </tbody>\n",
       "</table>\n",
       "<p>2 rows × 64 columns</p>\n",
       "</div>"
      ],
      "text/plain": [
       "                                                    accuracy  accuracy_diff  \\\n",
       "Mixtral-8x7B-v0.1__ACSIncome_AGEP_COW_MAR_OCCP_...  0.648297       0.248729   \n",
       "gemma-2-9b-it__ACSIncome_COW_POBP_RAC1P__3          0.466807       0.321693   \n",
       "\n",
       "                                                    accuracy_ratio  \\\n",
       "Mixtral-8x7B-v0.1__ACSIncome_AGEP_COW_MAR_OCCP_...        0.702738   \n",
       "gemma-2-9b-it__ACSIncome_COW_POBP_RAC1P__3                0.531647   \n",
       "\n",
       "                                                    balanced_accuracy  \\\n",
       "Mixtral-8x7B-v0.1__ACSIncome_AGEP_COW_MAR_OCCP_...           0.524920   \n",
       "gemma-2-9b-it__ACSIncome_COW_POBP_RAC1P__3                   0.528798   \n",
       "\n",
       "                                                    balanced_accuracy_diff  \\\n",
       "Mixtral-8x7B-v0.1__ACSIncome_AGEP_COW_MAR_OCCP_...                0.043200   \n",
       "gemma-2-9b-it__ACSIncome_COW_POBP_RAC1P__3                        0.084215   \n",
       "\n",
       "                                                    balanced_accuracy_ratio  \\\n",
       "Mixtral-8x7B-v0.1__ACSIncome_AGEP_COW_MAR_OCCP_...                 0.920471   \n",
       "gemma-2-9b-it__ACSIncome_COW_POBP_RAC1P__3                         0.850181   \n",
       "\n",
       "                                                    brier_score_loss  \\\n",
       "Mixtral-8x7B-v0.1__ACSIncome_AGEP_COW_MAR_OCCP_...          0.204540   \n",
       "gemma-2-9b-it__ACSIncome_COW_POBP_RAC1P__3                  0.493267   \n",
       "\n",
       "                                                         ece  ece_quantile  \\\n",
       "Mixtral-8x7B-v0.1__ACSIncome_AGEP_COW_MAR_OCCP_...  0.179335      0.184859   \n",
       "gemma-2-9b-it__ACSIncome_COW_POBP_RAC1P__3          0.489119      0.475899   \n",
       "\n",
       "                                                    equalized_odds_diff  ...  \\\n",
       "Mixtral-8x7B-v0.1__ACSIncome_AGEP_COW_MAR_OCCP_...             0.095565  ...   \n",
       "gemma-2-9b-it__ACSIncome_COW_POBP_RAC1P__3                     0.672582  ...   \n",
       "\n",
       "                                                               name  is_inst  \\\n",
       "Mixtral-8x7B-v0.1__ACSIncome_AGEP_COW_MAR_OCCP_...     Mixtral 8x7B    False   \n",
       "gemma-2-9b-it__ACSIncome_COW_POBP_RAC1P__3          Gemma 2 9B (it)     True   \n",
       "\n",
       "                                                    num_features  \\\n",
       "Mixtral-8x7B-v0.1__ACSIncome_AGEP_COW_MAR_OCCP_...            10   \n",
       "gemma-2-9b-it__ACSIncome_COW_POBP_RAC1P__3                     3   \n",
       "\n",
       "                                                    uses_all_features  \\\n",
       "Mixtral-8x7B-v0.1__ACSIncome_AGEP_COW_MAR_OCCP_...              False   \n",
       "gemma-2-9b-it__ACSIncome_COW_POBP_RAC1P__3                      False   \n",
       "\n",
       "                                                    fit_thresh_on_100  \\\n",
       "Mixtral-8x7B-v0.1__ACSIncome_AGEP_COW_MAR_OCCP_...           0.407264   \n",
       "gemma-2-9b-it__ACSIncome_COW_POBP_RAC1P__3                   0.977018   \n",
       "\n",
       "                                                    fit_thresh_accuracy  \\\n",
       "Mixtral-8x7B-v0.1__ACSIncome_AGEP_COW_MAR_OCCP_...             0.761766   \n",
       "gemma-2-9b-it__ACSIncome_COW_POBP_RAC1P__3                     0.523376   \n",
       "\n",
       "                                                    optimal_thresh  \\\n",
       "Mixtral-8x7B-v0.1__ACSIncome_AGEP_COW_MAR_OCCP_...        0.377347   \n",
       "gemma-2-9b-it__ACSIncome_COW_POBP_RAC1P__3                0.939886   \n",
       "\n",
       "                                                    optimal_thresh_accuracy  \\\n",
       "Mixtral-8x7B-v0.1__ACSIncome_AGEP_COW_MAR_OCCP_...                 0.729012   \n",
       "gemma-2-9b-it__ACSIncome_COW_POBP_RAC1P__3                         0.504770   \n",
       "\n",
       "                                                   score_stdev  score_mean  \n",
       "Mixtral-8x7B-v0.1__ACSIncome_AGEP_COW_MAR_OCCP_...    0.060043    0.366800  \n",
       "gemma-2-9b-it__ACSIncome_COW_POBP_RAC1P__3            0.404412    0.717929  \n",
       "\n",
       "[2 rows x 64 columns]"
      ]
     },
     "execution_count": 12,
     "metadata": {},
     "output_type": "execute_result"
    }
   ],
   "source": [
    "scores_stats_df = pd.DataFrame(scores_stats.values(), index=list(scores_stats.keys()))\n",
    "\n",
    "results_df = pd.concat((df, scores_stats_df), axis=\"columns\")\n",
    "results_df.sample(2)"
   ]
  },
  {
   "cell_type": "markdown",
   "id": "2d04ff64-39c4-43cc-9df2-fa4e099c4e56",
   "metadata": {},
   "source": [
    "Check if any results are missing:"
   ]
  },
  {
   "cell_type": "code",
   "execution_count": 13,
   "id": "dbb3b379-7697-4b54-a33d-09d503210f87",
   "metadata": {},
   "outputs": [
    {
     "name": "stdout",
     "output_type": "stream",
     "text": [
      "config_model_name\n",
      "Meta-Llama-3-70B                5\n",
      "Meta-Llama-3-70B-Instruct       3\n",
      "Meta-Llama-3-8B                10\n",
      "Meta-Llama-3-8B-Instruct       10\n",
      "Mistral-7B-Instruct-v0.2       10\n",
      "Mistral-7B-v0.1                10\n",
      "Mixtral-8x22B-Instruct-v0.1     1\n",
      "Mixtral-8x22B-v0.1              3\n",
      "Mixtral-8x7B-Instruct-v0.1      4\n",
      "Mixtral-8x7B-v0.1               7\n",
      "Yi-34B                         10\n",
      "Yi-34B-Chat                    10\n",
      "gemma-1.1-2b-it                10\n",
      "gemma-1.1-7b-it                10\n",
      "gemma-2-27b                     8\n",
      "gemma-2-27b-it                  6\n",
      "gemma-2-9b                     10\n",
      "gemma-2-9b-it                  10\n",
      "gemma-2b                       10\n",
      "gemma-7b                       10\n",
      "Name: config_task_name, dtype: int64\n"
     ]
    }
   ],
   "source": [
    "print(results_df.groupby([model_col])[task_col].count())"
   ]
  },
  {
   "cell_type": "markdown",
   "id": "a6e859fc-9d82-436d-a238-11fd008da44c",
   "metadata": {},
   "source": [
    "Finally, save results DF to the results root directory:"
   ]
  },
  {
   "cell_type": "code",
   "execution_count": 14,
   "id": "9725afa2-b6f8-46b1-86e7-57ae82ef05d9",
   "metadata": {},
   "outputs": [],
   "source": [
    "from utils import get_current_timestamp\n",
    "results_df.to_csv(Path(RESULTS_ROOT_DIR) / f\"aggregated_results.{get_current_timestamp()}.csv\")"
   ]
  },
  {
   "cell_type": "markdown",
   "id": "c3a6beb5-b44b-4f81-ae1a-d027afb2c5f4",
   "metadata": {},
   "source": [
    "---\n",
    "# Plots"
   ]
  },
  {
   "cell_type": "code",
   "execution_count": 15,
   "id": "5d721ce1-f3f3-4a56-a2fa-fb63f652128d",
   "metadata": {},
   "outputs": [
    {
     "data": {
      "text/html": [
       "<svg  width=\"550\" height=\"55\"><rect x=\"0\" y=\"0\" width=\"55\" height=\"55\" style=\"fill:#1f77b4;stroke-width:2;stroke:rgb(255,255,255)\"/><rect x=\"55\" y=\"0\" width=\"55\" height=\"55\" style=\"fill:#ff7f0e;stroke-width:2;stroke:rgb(255,255,255)\"/><rect x=\"110\" y=\"0\" width=\"55\" height=\"55\" style=\"fill:#2ca02c;stroke-width:2;stroke:rgb(255,255,255)\"/><rect x=\"165\" y=\"0\" width=\"55\" height=\"55\" style=\"fill:#d62728;stroke-width:2;stroke:rgb(255,255,255)\"/><rect x=\"220\" y=\"0\" width=\"55\" height=\"55\" style=\"fill:#9467bd;stroke-width:2;stroke:rgb(255,255,255)\"/><rect x=\"275\" y=\"0\" width=\"55\" height=\"55\" style=\"fill:#8c564b;stroke-width:2;stroke:rgb(255,255,255)\"/><rect x=\"330\" y=\"0\" width=\"55\" height=\"55\" style=\"fill:#e377c2;stroke-width:2;stroke:rgb(255,255,255)\"/><rect x=\"385\" y=\"0\" width=\"55\" height=\"55\" style=\"fill:#7f7f7f;stroke-width:2;stroke:rgb(255,255,255)\"/><rect x=\"440\" y=\"0\" width=\"55\" height=\"55\" style=\"fill:#bcbd22;stroke-width:2;stroke:rgb(255,255,255)\"/><rect x=\"495\" y=\"0\" width=\"55\" height=\"55\" style=\"fill:#17becf;stroke-width:2;stroke:rgb(255,255,255)\"/></svg>"
      ],
      "text/plain": [
       "[(0.12156862745098039, 0.4666666666666667, 0.7058823529411765),\n",
       " (1.0, 0.4980392156862745, 0.054901960784313725),\n",
       " (0.17254901960784313, 0.6274509803921569, 0.17254901960784313),\n",
       " (0.8392156862745098, 0.15294117647058825, 0.1568627450980392),\n",
       " (0.5803921568627451, 0.403921568627451, 0.7411764705882353),\n",
       " (0.5490196078431373, 0.33725490196078434, 0.29411764705882354),\n",
       " (0.8901960784313725, 0.4666666666666667, 0.7607843137254902),\n",
       " (0.4980392156862745, 0.4980392156862745, 0.4980392156862745),\n",
       " (0.7372549019607844, 0.7411764705882353, 0.13333333333333333),\n",
       " (0.09019607843137255, 0.7450980392156863, 0.8117647058823529)]"
      ]
     },
     "execution_count": 15,
     "metadata": {},
     "output_type": "execute_result"
    }
   ],
   "source": [
    "from matplotlib import pyplot as plt\n",
    "import seaborn as sns\n",
    "sns.set_style(\"whitegrid\", rc={\"grid.linestyle\": \"--\"})\n",
    "plt.rc(\"figure\", figsize=(4.5, 3.5), dpi=200)\n",
    "\n",
    "palette_name = \"tab10\"   # \"colorblind\"\n",
    "palette = sns.color_palette(palette_name)\n",
    "sns.set_palette(palette_name)\n",
    "palette"
   ]
  },
  {
   "cell_type": "code",
   "execution_count": 16,
   "id": "919690a2-8f87-451b-b778-0740127cd135",
   "metadata": {},
   "outputs": [],
   "source": [
    "IMGS_DIR = RESULTS_ROOT_DIR / \"imgs\"\n",
    "IMGS_DIR.mkdir(exist_ok=True)\n",
    "\n",
    "def save_fig(fig, name):\n",
    "    fig.savefig((IMGS_DIR / name).with_suffix(\".pdf\"), bbox_inches=\"tight\")"
   ]
  },
  {
   "cell_type": "markdown",
   "id": "e5d64604-8c0e-40f9-8130-fca5fff63194",
   "metadata": {},
   "source": [
    "## Score distributions of an example model with increasing evidence\n",
    "Score distribution should get more discriminative (less Gaussian-shaped) with increasing evidence.,"
   ]
  },
  {
   "cell_type": "code",
   "execution_count": 22,
   "id": "2742c1eb-6440-4ffe-b2b2-25886902976e",
   "metadata": {},
   "outputs": [],
   "source": [
    "# EXAMPLE_MODEL = \"Meta-Llama-3-70B-Instruct\"\n",
    "# EXAMPLE_MODEL = \"Meta-Llama-3-70B\"\n",
    "# EXAMPLE_MODEL = \"Mistral-7B-v0.1\"\n",
    "# EXAMPLE_MODEL = \"Mistral-7B-Instruct-v0.2\"\n",
    "# EXAMPLE_MODEL = \"Yi-34B-Chat\"\n",
    "# EXAMPLE_MODEL = \"Meta-Llama-3-8B\"\n",
    "EXAMPLE_MODEL = \"Meta-Llama-3-8B-Instruct\""
   ]
  },
  {
   "cell_type": "markdown",
   "id": "54ae284c-79af-4940-89ff-35327283cff6",
   "metadata": {},
   "source": [
    "**TODO?** plot xgboost score distribution as features are added! to show below the LLM score distribution as what true uncertainty quantification looks like..."
   ]
  },
  {
   "cell_type": "code",
   "execution_count": 23,
   "id": "9be9c590-589f-4ed1-a3cc-9e83e7bd6034",
   "metadata": {},
   "outputs": [
    {
     "data": {
      "image/png": "[encoded data removed]",
      "text/plain": [
       "<Figure size 2400x600 with 5 Axes>"
      ]
     },
     "metadata": {},
     "output_type": "display_data"
    }
   ],
   "source": [
    "# Get data to plot\n",
    "plot_df = results_df[results_df[model_col] == EXAMPLE_MODEL].sort_values(\"num_features\")\n",
    "# Skip every other row in plot\n",
    "plot_df = plot_df[[idx % 2 == 1 for idx in range(len(plot_df))]]\n",
    "\n",
    "# # For current Llama-3-8B-Instruct results\n",
    "# plot_df = plot_df[[False, True, False, True, True, False, True]]\n",
    "\n",
    "N_PLOTS = min(10, len(plot_df))\n",
    "\n",
    "N_COLS = 5\n",
    "N_ROWS = math.ceil(N_PLOTS / N_COLS)\n",
    "\n",
    "fig, axes = plt.subplots(\n",
    "    nrows=N_ROWS, ncols=N_COLS,\n",
    "    figsize=(12, 3 * N_ROWS),\n",
    "    sharey=True, sharex=False,\n",
    "    gridspec_kw=dict(\n",
    "        hspace=0.5,\n",
    "        wspace=0.06,\n",
    "    ),\n",
    ")\n",
    "\n",
    "# Plot settings\n",
    "plot_config = dict(\n",
    "    bins=(N_BINS := 20),\n",
    "    binrange=(0, 1),\n",
    "    stat=\"percent\",\n",
    ")\n",
    "\n",
    "# Plot score distribution for model pairs\n",
    "current_featureset = set()\n",
    "\n",
    "for idx, (id_, row) in enumerate(plot_df.iterrows()):\n",
    "    ax_row = idx // N_COLS\n",
    "    ax_col = idx % N_COLS\n",
    "\n",
    "    ax = axes[ax_row, ax_col] if N_ROWS > 1 else axes[ax_col]\n",
    "\n",
    "    # Get scores\n",
    "    scores = scores_df_map[row.name][\"risk_score\"]\n",
    "\n",
    "    # Added features\n",
    "    added_features = set(row[\"config_feature_subset\"]) - current_featureset\n",
    "\n",
    "    # Set title with added features compared to last plot\n",
    "    title_str = \"+ \" if len(current_featureset) > 0 else \"\"\n",
    "    title_str += \", \".join(added_features)\n",
    "    current_featureset |= added_features\n",
    "\n",
    "    ax.set_title(title_str)\n",
    "\n",
    "    ax.set_xlabel(\"risk scores\")\n",
    "    if ax_col == 0:\n",
    "        ax.set_ylabel(\"density (%)\")\n",
    "\n",
    "    ax.set_xlim(-0.03, 1.03)\n",
    "\n",
    "    # Render plot\n",
    "    sns.histplot(scores, ax=ax, color=palette[1 if row[\"is_inst\"] else 0], **plot_config)\n",
    "\n",
    "    # Add text box with distribution stats\n",
    "    textstr = '\\n'.join([\n",
    "        r\"$\\text{ROC}=%.2f$\" % (row[\"roc_auc\"],),\n",
    "        r\"$\\text{ECE}=%.2f$\" % (row[\"ece\"],),\n",
    "        r\"$\\sigma=%.2f$\" % (row[\"score_stdev\"],),\n",
    "    ])\n",
    "\n",
    "    props = dict(boxstyle='round', facecolor='wheat', alpha=0.5)\n",
    "\n",
    "    if row[\"is_inst\"]:\n",
    "        # Center-aligned text box\n",
    "        ax.text(0.5, 0.95, textstr, transform=ax.transAxes, fontsize=9,\n",
    "            verticalalignment='top', horizontalalignment='center', bbox=props)\n",
    "    else:\n",
    "        # Left-aligned text box\n",
    "        ax.text(0.05, 0.95, textstr, transform=ax.transAxes, fontsize=9,\n",
    "            verticalalignment='top', bbox=props)\n",
    "\n",
    "# Remove unused axes\n",
    "[\n",
    "    (axes[N_ROWS - 1, idx] if N_ROWS > 1 else axes[idx]).remove()\n",
    "    for idx in range(N_COLS-1, len(plot_df) - N_COLS * (N_ROWS - 1) - 1, -1)\n",
    "];\n",
    "\n",
    "# Set suptitle\n",
    "plt.suptitle(plot_df[\"name\"].iloc[0], y=1.05, fontsize=15)\n",
    "\n",
    "plt.plot()\n",
    "\n",
    "save_fig(fig, f\"increasing-evidence.{EXAMPLE_MODEL}.pdf\")"
   ]
  },
  {
   "cell_type": "code",
   "execution_count": null,
   "id": "a2494f73-152a-47f7-a9d6-d15092227b22",
   "metadata": {},
   "outputs": [],
   "source": []
  }
 ],
 "metadata": {
  "kernelspec": {
   "display_name": "Python 3 (ipykernel)",
   "language": "python",
   "name": "python3"
  },
  "language_info": {
   "codemirror_mode": {
    "name": "ipython",
    "version": 3
   },
   "file_extension": ".py",
   "mimetype": "text/x-python",
   "name": "python",
   "nbconvert_exporter": "python",
   "pygments_lexer": "ipython3",
   "version": "3.11.9"
  }
 },
 "nbformat": 4,
 "nbformat_minor": 5
}
