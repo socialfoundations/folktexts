{
 "cells": [
  {
   "cell_type": "code",
   "execution_count": null,
   "id": "e5c41432-8ee0-4fbb-b37b-4eea92504382",
   "metadata": {},
   "outputs": [],
   "source": [
    "from pathlib import Path\n",
    "\n",
    "import torch\n",
    "import numpy as np\n",
    "import pandas as pd"
   ]
  },
  {
   "cell_type": "code",
   "execution_count": null,
   "id": "7a4b1e7f-a893-488e-96f1-4094857115f2",
   "metadata": {},
   "outputs": [],
   "source": [
    "import logging\n",
    "logging.getLogger().setLevel(logging.INFO)"
   ]
  },
  {
   "cell_type": "markdown",
   "id": "04d5e737-9b3c-468a-bd68-b1c161f57c84",
   "metadata": {},
   "source": [
    "## Set important local paths"
   ]
  },
  {
   "cell_type": "markdown",
   "id": "1cf6dfe9-4ddc-448f-afb9-0e4802ae480d",
   "metadata": {},
   "source": [
    "Set your root directory:"
   ]
  },
  {
   "cell_type": "code",
   "execution_count": null,
   "id": "048f506d-83a6-4911-b5f3-2fc290ed9fd8",
   "metadata": {},
   "outputs": [],
   "source": [
    "ROOT_DIR = Path(\"~\").expanduser().resolve()     # LOCAL dir\n",
    "# ROOT_DIR = Path(\"/fast/groups/sf\")            # CLUSTER dir\n",
    "ROOT_DIR"
   ]
  },
  {
   "cell_type": "markdown",
   "id": "0cb6c30e-5af1-4733-8732-788cba086eaf",
   "metadata": {},
   "source": [
    "Directory where LLMs are saved:"
   ]
  },
  {
   "cell_type": "code",
   "execution_count": null,
   "id": "a7e60a72-e0c4-4fa8-a5d5-402f82098872",
   "metadata": {},
   "outputs": [],
   "source": [
    "MODELS_DIR = ROOT_DIR / \"huggingface-models\""
   ]
  },
  {
   "cell_type": "markdown",
   "id": "efbc677d-5208-4a8a-aab8-9cb7282ca39f",
   "metadata": {},
   "source": [
    "Directory where data is saved (or will be saved to):"
   ]
  },
  {
   "cell_type": "code",
   "execution_count": null,
   "id": "8040b3cd-da53-4b62-8aae-58b2bb7cba69",
   "metadata": {},
   "outputs": [],
   "source": [
    "DATA_DIR = ROOT_DIR / \"data\""
   ]
  },
  {
   "cell_type": "markdown",
   "id": "985344ec-6c9c-4e8b-8d8e-26f009937a7c",
   "metadata": {},
   "source": [
    "Other configs:"
   ]
  },
  {
   "cell_type": "code",
   "execution_count": null,
   "id": "a4316d94-110f-4014-a823-95300ac87eb8",
   "metadata": {},
   "outputs": [],
   "source": [
    "# MODEL_NAME = \"meta-llama/Meta-Llama-3-8B\"\n",
    "# MODEL_NAME = \"meta-llama/Meta-Llama-3-8B-Instruct\"\n",
    "MODEL_NAME = \"google/gemma-2b\"    # NOTE: this is among the smallest models\n",
    "\n",
    "# TASK_NAME = \"ACSIncome\"\n",
    "TASK_NAME = \"ACSHealthInsurance-test\"\n",
    "\n",
    "RESULTS_ROOT_DIR = ROOT_DIR / \"folktexts-results\""
   ]
  },
  {
   "cell_type": "code",
   "execution_count": null,
   "id": "7e0f598d-dd37-471f-a0d4-4b3c1ae07167",
   "metadata": {},
   "outputs": [],
   "source": [
    "from folktexts.llm_utils import load_model_tokenizer, get_model_folder_path\n",
    "model_folder_path = get_model_folder_path(model_name=MODEL_NAME, root_dir=MODELS_DIR)\n",
    "model, tokenizer = load_model_tokenizer(model_folder_path)"
   ]
  },
  {
   "cell_type": "code",
   "execution_count": null,
   "id": "ab088b1f-37ba-4d2e-b5d2-b829787b7fed",
   "metadata": {},
   "outputs": [],
   "source": [
    "results_dir = RESULTS_ROOT_DIR / Path(model_folder_path).name\n",
    "results_dir.mkdir(exist_ok=True, parents=True)\n",
    "results_dir"
   ]
  },
  {
   "cell_type": "markdown",
   "id": "2d87da67-3857-421f-b761-81814ea5498d",
   "metadata": {},
   "source": [
    "### Construct LLM Classifier"
   ]
  },
  {
   "cell_type": "markdown",
   "id": "e664c322-4da5-49b3-a755-3ba0a075ee64",
   "metadata": {},
   "source": [
    "Load prediction task (which maps tabular data to text):"
   ]
  },
  {
   "cell_type": "code",
   "execution_count": null,
   "id": "7f0b725d-d97a-40a9-a71d-88fb5fefbddf",
   "metadata": {},
   "outputs": [],
   "source": [
    "from folktexts.acs import ACSTaskMetadata\n",
    "task = ACSTaskMetadata.get_task(TASK_NAME)"
   ]
  },
  {
   "cell_type": "code",
   "execution_count": null,
   "id": "0cfa6291-5c06-4618-a14d-86e49f2f4969",
   "metadata": {},
   "outputs": [],
   "source": [
    "from folktexts.classifier import LLMClassifier\n",
    "llm_clf = LLMClassifier(\n",
    "    model=model,\n",
    "    tokenizer=tokenizer,\n",
    "    task=task,\n",
    "    batch_size=32,\n",
    ")"
   ]
  },
  {
   "cell_type": "markdown",
   "id": "53f969d6-9d0e-48c2-9b34-a57aef0edb5c",
   "metadata": {},
   "source": [
    "### Load Dataset"
   ]
  },
  {
   "cell_type": "code",
   "execution_count": null,
   "id": "820004cb-25ce-4802-85c3-6ab251881141",
   "metadata": {},
   "outputs": [],
   "source": [
    "%%time\n",
    "from folktexts.acs import ACSDataset\n",
    "dataset = ACSDataset(task=task, cache_dir=DATA_DIR)"
   ]
  },
  {
   "cell_type": "markdown",
   "id": "8145eddd-09da-4db9-8779-c61b04c3d777",
   "metadata": {},
   "source": [
    "Optionally, subsample to quickly get approximate results:"
   ]
  },
  {
   "cell_type": "code",
   "execution_count": null,
   "id": "c977cac3-162c-4cde-8594-e6795f62e29a",
   "metadata": {},
   "outputs": [],
   "source": [
    "dataset = dataset.subsample(0.1)\n",
    "print(f\"{dataset.subsampling=}\")"
   ]
  },
  {
   "cell_type": "markdown",
   "id": "a3b4ce61-ecbc-4491-bd7b-0cfae38c6c10",
   "metadata": {},
   "source": [
    "### Load and run ACS Benchmark\n",
    "\n",
    "**_Note:_** Helper constructors exist at `CalibrationBenchmark.make_acs_benchmark` and `CalibrationBenchmark.make_benchmark` that avoid the above boilerplate code."
   ]
  },
  {
   "cell_type": "code",
   "execution_count": null,
   "id": "10d362b6-aac8-49dd-84c3-0ce799ffabba",
   "metadata": {},
   "outputs": [],
   "source": [
    "from folktexts.benchmark import CalibrationBenchmark, BenchmarkConfig\n",
    "\n",
    "bench = CalibrationBenchmark(\n",
    "    llm_clf=llm_clf,\n",
    "    dataset=dataset,\n",
    "    config=BenchmarkConfig.default_config(),\n",
    ")"
   ]
  },
  {
   "cell_type": "markdown",
   "id": "e107c703-17d4-4543-8f56-73c7b9583589",
   "metadata": {},
   "source": [
    "Optionally, you can fit the model's threshold on a few data samples.\n",
    "\n",
    "This is generally quite fast as it is _not fine-tuning_; it only changes one parameter: the `llm_clf.threshold`."
   ]
  },
  {
   "cell_type": "code",
   "execution_count": null,
   "id": "16f88399-1b9e-4fd3-a1ca-0aa9f2b91080",
   "metadata": {},
   "outputs": [],
   "source": [
    "%%time\n",
    "X_sample, y_sample = dataset.sample_n_train_examples(n=100)\n",
    "llm_clf.fit(X_sample, y_sample)"
   ]
  },
  {
   "cell_type": "markdown",
   "id": "5dcc20d7-732f-450d-b02d-b94c34b41fc8",
   "metadata": {},
   "source": [
    "Run benchmark..."
   ]
  },
  {
   "cell_type": "code",
   "execution_count": null,
   "id": "4dae3a36-2b7b-473b-916b-35711e985140",
   "metadata": {},
   "outputs": [],
   "source": [
    "%%time\n",
    "bench.run(results_root_dir=results_dir)"
   ]
  },
  {
   "cell_type": "code",
   "execution_count": null,
   "id": "4dfbfa5f-a83d-4391-a2d9-afe0431ccd77",
   "metadata": {},
   "outputs": [],
   "source": [
    "bench.plot_results();"
   ]
  },
  {
   "cell_type": "code",
   "execution_count": null,
   "id": "2f2e7d60-9fe4-4290-a2a9-7ec22b210cdc",
   "metadata": {},
   "outputs": [],
   "source": [
    "from pprint import pprint\n",
    "pprint(bench.results, depth=1)"
   ]
  },
  {
   "cell_type": "markdown",
   "id": "f0b5be1e-4c00-4b48-adf4-3eee02b8d6e1",
   "metadata": {},
   "source": [
    "---"
   ]
  }
 ],
 "metadata": {
  "kernelspec": {
   "display_name": "Python 3 (ipykernel)",
   "language": "python",
   "name": "python3"
  },
  "language_info": {
   "codemirror_mode": {
    "name": "ipython",
    "version": 3
   },
   "file_extension": ".py",
   "mimetype": "text/x-python",
   "name": "python",
   "nbconvert_exporter": "python",
   "pygments_lexer": "ipython3",
   "version": "3.11.8"
  }
 },
 "nbformat": 4,
 "nbformat_minor": 5
}
